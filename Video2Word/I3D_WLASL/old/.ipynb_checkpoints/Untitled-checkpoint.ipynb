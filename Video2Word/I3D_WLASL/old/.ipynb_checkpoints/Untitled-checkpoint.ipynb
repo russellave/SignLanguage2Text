{
 "cells": [
  {
   "cell_type": "code",
   "execution_count": 1,
   "metadata": {},
   "outputs": [],
   "source": [
    "from load_dataset import _label\n",
    "from os import listdir"
   ]
  },
  {
   "cell_type": "code",
   "execution_count": 3,
   "metadata": {},
   "outputs": [],
   "source": [
    "nameset = set()\n",
    "for filename in listdir('../../train_processed'):\n",
    "    nameset.add(_label(filename))\n",
    "unique_labels = sorted(nameset)\n",
    "with open('test.txt', mode='wt', encoding='utf-8') as myfile:\n",
    "    myfile.write('\\n'.join(unique_labels))"
   ]
  },
  {
   "cell_type": "code",
   "execution_count": 10,
   "metadata": {},
   "outputs": [],
   "source": []
  },
  {
   "cell_type": "code",
   "execution_count": 9,
   "metadata": {},
   "outputs": [
    {
     "data": {
      "text/plain": [
       "14725"
      ]
     },
     "execution_count": 9,
     "metadata": {},
     "output_type": "execute_result"
    }
   ],
   "source": [
    "len(listdir('../../train_processed'))"
   ]
  },
  {
   "cell_type": "code",
   "execution_count": 11,
   "metadata": {},
   "outputs": [],
   "source": []
  },
  {
   "cell_type": "code",
   "execution_count": 12,
   "metadata": {},
   "outputs": [
    {
     "data": {
      "text/plain": [
       "1047"
      ]
     },
     "execution_count": 12,
     "metadata": {},
     "output_type": "execute_result"
    }
   ],
   "source": [
    "len(unique_labels)"
   ]
  },
  {
   "cell_type": "code",
   "execution_count": 2,
   "metadata": {},
   "outputs": [
    {
     "ename": "ModuleNotFoundError",
     "evalue": "No module named 'sonnet'",
     "output_type": "error",
     "traceback": [
      "\u001b[1;31m---------------------------------------------------------------------------\u001b[0m",
      "\u001b[1;31mModuleNotFoundError\u001b[0m                       Traceback (most recent call last)",
      "\u001b[1;32m<ipython-input-2-c6940cdb5899>\u001b[0m in \u001b[0;36m<module>\u001b[1;34m\u001b[0m\n\u001b[1;32m----> 1\u001b[1;33m \u001b[1;32mfrom\u001b[0m \u001b[0mtrain_model\u001b[0m \u001b[1;32mimport\u001b[0m \u001b[0mtrain\u001b[0m\u001b[1;33m\u001b[0m\u001b[0m\n\u001b[0m",
      "\u001b[1;32m~\\Desktop\\sl_data\\TechniqueAnalysis\\video-classifier\\train_model.py\u001b[0m in \u001b[0;36m<module>\u001b[1;34m\u001b[0m\n\u001b[0;32m     10\u001b[0m \u001b[1;32mimport\u001b[0m \u001b[0mtensorflow\u001b[0m \u001b[1;32mas\u001b[0m \u001b[0mtf\u001b[0m\u001b[1;33m\u001b[0m\u001b[0m\n\u001b[0;32m     11\u001b[0m \u001b[1;33m\u001b[0m\u001b[0m\n\u001b[1;32m---> 12\u001b[1;33m \u001b[1;32mfrom\u001b[0m \u001b[0mbuild_graph\u001b[0m \u001b[1;32mimport\u001b[0m \u001b[0mbuild_graph\u001b[0m\u001b[1;33m,\u001b[0m \u001b[0mNUM_FRAMES\u001b[0m\u001b[1;33m,\u001b[0m \u001b[0mIMAGE_SIZE\u001b[0m\u001b[1;33m\u001b[0m\u001b[0m\n\u001b[0m\u001b[0;32m     13\u001b[0m \u001b[1;32mfrom\u001b[0m \u001b[0mload_dataset\u001b[0m \u001b[1;32mimport\u001b[0m \u001b[0mload_exercise_dataset\u001b[0m\u001b[1;33m\u001b[0m\u001b[0m\n\u001b[0;32m     14\u001b[0m \u001b[1;32mfrom\u001b[0m \u001b[0mprocess_video\u001b[0m \u001b[1;32mimport\u001b[0m \u001b[0mrgb_data\u001b[0m\u001b[1;33m,\u001b[0m \u001b[0mflow_data\u001b[0m\u001b[1;33m\u001b[0m\u001b[0m\n",
      "\u001b[1;32m~\\Desktop\\sl_data\\TechniqueAnalysis\\video-classifier\\build_graph.py\u001b[0m in \u001b[0;36m<module>\u001b[1;34m\u001b[0m\n\u001b[0;32m      1\u001b[0m \u001b[1;32mimport\u001b[0m \u001b[0mnumpy\u001b[0m \u001b[1;32mas\u001b[0m \u001b[0mnp\u001b[0m\u001b[1;33m\u001b[0m\u001b[0m\n\u001b[0;32m      2\u001b[0m \u001b[1;32mimport\u001b[0m \u001b[0mtensorflow\u001b[0m \u001b[1;32mas\u001b[0m \u001b[0mtf\u001b[0m\u001b[1;33m\u001b[0m\u001b[0m\n\u001b[1;32m----> 3\u001b[1;33m \u001b[1;32mimport\u001b[0m \u001b[0msonnet\u001b[0m \u001b[1;32mas\u001b[0m \u001b[0msnt\u001b[0m\u001b[1;33m\u001b[0m\u001b[0m\n\u001b[0m\u001b[0;32m      4\u001b[0m \u001b[1;33m\u001b[0m\u001b[0m\n\u001b[0;32m      5\u001b[0m \u001b[1;32mimport\u001b[0m \u001b[0mi3d\u001b[0m\u001b[1;33m\u001b[0m\u001b[0m\n",
      "\u001b[1;31mModuleNotFoundError\u001b[0m: No module named 'sonnet'"
     ]
    }
   ],
   "source": [
    "from train_model import train"
   ]
  },
  {
   "cell_type": "code",
   "execution_count": 1,
   "metadata": {},
   "outputs": [
    {
     "name": "stdout",
     "output_type": "stream",
     "text": [
      "Collecting dm-sonnet\n",
      "  Using cached https://files.pythonhosted.org/packages/13/28/9185afffefb655ef1a29f4b84aa9f656826408ca2d1b9ffeba81fbfd40ec/dm_sonnet-2.0.0-py3-none-any.whl\n",
      "Requirement already satisfied: six>=1.12.0 in c:\\users\\feroze\\anaconda3\\lib\\site-packages (from dm-sonnet) (1.14.0)\n",
      "Collecting absl-py>=0.7.1 (from dm-sonnet)\n",
      "Collecting wrapt>=1.11.1 (from dm-sonnet)\n",
      "Requirement already satisfied: numpy>=1.16.3 in c:\\users\\feroze\\anaconda3\\lib\\site-packages (from dm-sonnet) (1.17.2)\n",
      "Collecting dm-tree>=0.1.1 (from dm-sonnet)\n",
      "  Using cached https://files.pythonhosted.org/packages/39/b2/b26c2f79472912b63885a6867c0011706ea39c99d736a8ba9f59d7ba0ea5/dm_tree-0.1.4-cp36-cp36m-win_amd64.whl\n",
      "Requirement already satisfied: tabulate>=0.7.5 in c:\\users\\feroze\\appdata\\roaming\\python\\python36\\site-packages (from dm-sonnet) (0.8.2)\n",
      "Installing collected packages: absl-py, wrapt, dm-tree, dm-sonnet\n",
      "  Found existing installation: absl-py 0.5.0\n",
      "    Uninstalling absl-py-0.5.0:\n",
      "      Successfully uninstalled absl-py-0.5.0\n",
      "  Found existing installation: wrapt 1.10.11\n"
     ]
    },
    {
     "name": "stderr",
     "output_type": "stream",
     "text": [
      "aequitas 0.38.0 has requirement Flask==0.12.2, but you'll have flask 1.1.1 which is incompatible.\n",
      "jupyter-console 5.2.0 has requirement prompt_toolkit<2.0.0,>=1.0.0, but you'll have prompt-toolkit 2.0.9 which is incompatible.\n",
      "Cannot uninstall 'wrapt'. It is a distutils installed project and thus we cannot accurately determine which files belong to it which would lead to only a partial uninstall.\n",
      "You are using pip version 10.0.1, however version 20.0.2 is available.\n",
      "You should consider upgrading via the 'python -m pip install --upgrade pip' command.\n"
     ]
    }
   ],
   "source": [
    "!pip install dm-sonnet"
   ]
  },
  {
   "cell_type": "code",
   "execution_count": 3,
   "metadata": {},
   "outputs": [
    {
     "ename": "ModuleNotFoundError",
     "evalue": "No module named 'sonnet'",
     "output_type": "error",
     "traceback": [
      "\u001b[1;31m---------------------------------------------------------------------------\u001b[0m",
      "\u001b[1;31mModuleNotFoundError\u001b[0m                       Traceback (most recent call last)",
      "\u001b[1;32m<ipython-input-3-eadb87d63aea>\u001b[0m in \u001b[0;36m<module>\u001b[1;34m\u001b[0m\n\u001b[1;32m----> 1\u001b[1;33m \u001b[1;32mimport\u001b[0m \u001b[0msonnet\u001b[0m \u001b[1;32mas\u001b[0m \u001b[0msnt\u001b[0m\u001b[1;33m\u001b[0m\u001b[0m\n\u001b[0m",
      "\u001b[1;31mModuleNotFoundError\u001b[0m: No module named 'sonnet'"
     ]
    }
   ],
   "source": [
    "import sonnet as snt"
   ]
  },
  {
   "cell_type": "code",
   "execution_count": 4,
   "metadata": {},
   "outputs": [
    {
     "name": "stdout",
     "output_type": "stream",
     "text": [
      "Collecting dm-sonnet\n",
      "  Using cached https://files.pythonhosted.org/packages/13/28/9185afffefb655ef1a29f4b84aa9f656826408ca2d1b9ffeba81fbfd40ec/dm_sonnet-2.0.0-py3-none-any.whl\n",
      "Requirement already satisfied: tabulate>=0.7.5 in c:\\users\\feroze\\appdata\\roaming\\python\\python36\\site-packages (from dm-sonnet) (0.8.2)\n",
      "Requirement already satisfied: six>=1.12.0 in c:\\users\\feroze\\anaconda3\\lib\\site-packages (from dm-sonnet) (1.14.0)\n",
      "Collecting wrapt>=1.11.1 (from dm-sonnet)\n",
      "Requirement already satisfied: numpy>=1.16.3 in c:\\users\\feroze\\anaconda3\\lib\\site-packages (from dm-sonnet) (1.17.2)\n",
      "Requirement already satisfied: absl-py>=0.7.1 in c:\\users\\feroze\\anaconda3\\lib\\site-packages (from dm-sonnet) (0.9.0)\n",
      "Collecting dm-tree>=0.1.1 (from dm-sonnet)\n",
      "  Using cached https://files.pythonhosted.org/packages/39/b2/b26c2f79472912b63885a6867c0011706ea39c99d736a8ba9f59d7ba0ea5/dm_tree-0.1.4-cp36-cp36m-win_amd64.whl\n",
      "Installing collected packages: wrapt, dm-tree, dm-sonnet\n",
      "  Found existing installation: wrapt 1.10.11\n"
     ]
    },
    {
     "name": "stderr",
     "output_type": "stream",
     "text": [
      "aequitas 0.38.0 has requirement Flask==0.12.2, but you'll have flask 1.1.1 which is incompatible.\n",
      "jupyter-console 5.2.0 has requirement prompt_toolkit<2.0.0,>=1.0.0, but you'll have prompt-toolkit 2.0.9 which is incompatible.\n",
      "Cannot uninstall 'wrapt'. It is a distutils installed project and thus we cannot accurately determine which files belong to it which would lead to only a partial uninstall.\n",
      "You are using pip version 10.0.1, however version 20.0.2 is available.\n",
      "You should consider upgrading via the 'python -m pip install --upgrade pip' command.\n"
     ]
    }
   ],
   "source": [
    "!pip install dm-sonnet"
   ]
  },
  {
   "cell_type": "code",
   "execution_count": 5,
   "metadata": {},
   "outputs": [
    {
     "ename": "ModuleNotFoundError",
     "evalue": "No module named 'sonnet'",
     "output_type": "error",
     "traceback": [
      "\u001b[1;31m---------------------------------------------------------------------------\u001b[0m",
      "\u001b[1;31mModuleNotFoundError\u001b[0m                       Traceback (most recent call last)",
      "\u001b[1;32m<ipython-input-5-eadb87d63aea>\u001b[0m in \u001b[0;36m<module>\u001b[1;34m\u001b[0m\n\u001b[1;32m----> 1\u001b[1;33m \u001b[1;32mimport\u001b[0m \u001b[0msonnet\u001b[0m \u001b[1;32mas\u001b[0m \u001b[0msnt\u001b[0m\u001b[1;33m\u001b[0m\u001b[0m\n\u001b[0m",
      "\u001b[1;31mModuleNotFoundError\u001b[0m: No module named 'sonnet'"
     ]
    }
   ],
   "source": [
    "import sonnet as snt"
   ]
  },
  {
   "cell_type": "code",
   "execution_count": 9,
   "metadata": {},
   "outputs": [
    {
     "data": {
      "text/plain": [
       "array([0.  , 0.  , 0.2 , 0.2 , 0.2 , 0.25, 0.25, 0.35, 0.4 , 0.4 , 0.55,\n",
       "       0.4 , 0.4 , 0.55, 0.3 , 0.4 , 0.4 , 0.35, 0.6 , 0.45, 0.4 , 0.1 ,\n",
       "       0.2 , 0.2 , 0.2 , 0.2 , 0.25, 0.2 , 0.25, 0.5 , 0.35, 0.4 , 0.55,\n",
       "       0.55, 0.4 , 0.4 , 0.45, 0.55, 0.5 , 0.45, 0.35, 0.5 , 0.1 , 0.65,\n",
       "       0.35, 0.5 , 0.55, 0.7 , 0.5 , 0.45, 0.6 , 0.7 , 0.65, 0.55, 0.6 ,\n",
       "       0.5 , 0.6 , 0.65, 0.6 , 0.55, 0.5 , 0.6 , 0.6 ])"
      ]
     },
     "execution_count": 9,
     "metadata": {},
     "output_type": "execute_result"
    }
   ],
   "source": [
    "np.load('data/stats/val_acc.npy')"
   ]
  },
  {
   "cell_type": "code",
   "execution_count": 12,
   "metadata": {},
   "outputs": [
    {
     "data": {
      "text/plain": [
       "6003"
      ]
     },
     "execution_count": 12,
     "metadata": {},
     "output_type": "execute_result"
    }
   ],
   "source": [
    "len(np.load('data/stats/loss.npy'))"
   ]
  },
  {
   "cell_type": "code",
   "execution_count": null,
   "metadata": {},
   "outputs": [],
   "source": []
  }
 ],
 "metadata": {
  "kernelspec": {
   "display_name": "Python 3",
   "language": "python",
   "name": "python3"
  },
  "language_info": {
   "codemirror_mode": {
    "name": "ipython",
    "version": 3
   },
   "file_extension": ".py",
   "mimetype": "text/x-python",
   "name": "python",
   "nbconvert_exporter": "python",
   "pygments_lexer": "ipython3",
   "version": "3.6.5"
  }
 },
 "nbformat": 4,
 "nbformat_minor": 2
}
